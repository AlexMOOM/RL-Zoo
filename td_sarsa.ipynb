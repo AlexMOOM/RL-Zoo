{
 "cells": [
  {
   "cell_type": "code",
   "execution_count": null,
   "metadata": {
    "scrolled": false
   },
   "outputs": [],
   "source": [
    "import numpy as np\n",
    "import itertools\n",
    "from Env import GridWorld\n",
    "\n",
    "DISCOUNT_FACTOR = 0.9\n",
    "\n",
    "\n",
    "class Agent:\n",
    "    def __init__(self, env):\n",
    "        self.env = env\n",
    "    \n",
    "    def policy(self, Q, state, epsilon=0.01):\n",
    "        action_probs = np.ones(self.env.nA, dtype=float) * epsilon / self.env.nA\n",
    "        action_probs[np.argmax(Q[state])] += (1.0 - epsilon)\n",
    "        action = np.random.choice(self.env.nA, p=action_probs)\n",
    "        return action\n",
    "    \n",
    "    def sarsa(self, num_episodes=1000, alpha=0.5):\n",
    "        Q = np.zeros((self.env.nS, self.env.nA))\n",
    "        \n",
    "        for ith in range(1, num_episodes + 1):\n",
    "            if ith % 100 == 0:\n",
    "                print(\"\\rEpisode {}/{}.\".format(ith, num_episodes))\n",
    "                print(Q)\n",
    "                \n",
    "            state = env.reset()\n",
    "            action = self.policy(Q, state)\n",
    "            \n",
    "            for t in itertools.count():\n",
    "                next_state, reward, done, _ = env.step(action)\n",
    "                next_action = self.policy(Q, next_state)\n",
    "                \n",
    "                td_target = reward + DISCOUNT_FACTOR * Q[next_state][next_action]\n",
    "                Q[state][action] += alpha * (td_target - Q[state][action])\n",
    "                \n",
    "                if done:\n",
    "                    break\n",
    "                \n",
    "                action = next_action\n",
    "                state = next_state\n",
    "        return Q\n",
    "\n",
    "# estimate state action value using SARSA \n",
    "env = GridWorld(wind_prob=0.2)\n",
    "agent = Agent(env)\n",
    "Q = agent.sarsa()"
   ]
  }
 ],
 "metadata": {
  "kernelspec": {
   "display_name": "Python [conda env:jupyter-python36]",
   "language": "python",
   "name": "conda-env-jupyter-python36-py"
  },
  "language_info": {
   "codemirror_mode": {
    "name": "ipython",
    "version": 3
   },
   "file_extension": ".py",
   "mimetype": "text/x-python",
   "name": "python",
   "nbconvert_exporter": "python",
   "pygments_lexer": "ipython3",
   "version": "3.6.3"
  }
 },
 "nbformat": 4,
 "nbformat_minor": 2
}
